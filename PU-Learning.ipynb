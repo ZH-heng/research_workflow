{
 "cells": [
  {
   "cell_type": "markdown",
   "metadata": {},
   "source": [
    "Utilizing the Spy Technique in PU Learning to Obtain Reliable Negative Samples"
   ]
  },
  {
   "cell_type": "code",
   "execution_count": null,
   "metadata": {},
   "outputs": [],
   "source": [
    "import pandas as pd\n",
    "\n",
    "# Positive examples\n",
    "df_pos = pd.read_csv('./data/pos_data.csv')\n",
    "# Negative examples\n",
    "df_neg = pd.read_csv('./data/U-data.gz')\n",
    "# Sample 15% of the positive examples as the Spy(S) set.\n",
    "df_spy = df_pos.sample(int(len(df_pos)*0.15), random_state=42)\n",
    "df_pos_ = df_pos.drop(df_spy.index)\n",
    "print(len(df_spy), len(df_pos_))\n",
    "# Use P-S as the positive sample and U+S as the negative sample to construct the training data for FastText.\n",
    "data = []\n",
    "for row in df_pos_.itertuples():\n",
    "    data.append(f'__label__1 {row.content.lower()}')\n",
    "for row in df_spy.itertuples():\n",
    "    data.append(f'__label__0 {row.content.lower()}')\n",
    "for row in df_neg.itertuples():\n",
    "    data.append(f'__label__0 {row.content.lower()}')\n",
    "with open(r'./data/ftt-data.txt', 'w', encoding='utf8') as f:\n",
    "    f.write('\\n'.join(data))"
   ]
  },
  {
   "cell_type": "markdown",
   "metadata": {},
   "source": [
    "Training a classification model using fastText"
   ]
  },
  {
   "cell_type": "code",
   "execution_count": 29,
   "metadata": {},
   "outputs": [],
   "source": [
    "import fasttext\n",
    "model = fasttext.train_supervised(r'./data/ftt-data.txt', label='__label__', wordNgrams=2, minCount=3, epoch=10, dim=300, thread=30)\n",
    "model.save_model(\"./data/ftt-clf.model\")"
   ]
  },
  {
   "cell_type": "code",
   "execution_count": null,
   "metadata": {},
   "outputs": [],
   "source": [
    "from fasttext import load_model\n",
    "\n",
    "# Load the trained fasttext model to predict the probability of samples in the Spy set being positive, and use the 1st percentile of the probabilities as the threshold.\n",
    "model = load_model(\"./data/ftt-clf.model\")\n",
    "contents = [_.lower() for _ in df_spy['content']]\n",
    "pred = model.predict(contents)\n",
    "probs = []\n",
    "for i, j in zip(pred[0], pred[1]):\n",
    "    if i[0]=='__label__0':\n",
    "        probs.append(1-j[0])\n",
    "    else:\n",
    "        probs.append(j[0])\n",
    "n = int(len(contents)*0.01)\n",
    "t = sorted(probs)[n]\n",
    "\n",
    "# Samples from the set U where the predicted probability of being a positive sample is below the threshold are considered reliable negative samples.\n",
    "contents_U = [_.lower() for _ in df_neg['content']]\n",
    "pred_U = model.predict(contents_U)\n",
    "lis = []\n",
    "for i, j, c in zip(pred_U[0], pred_U[1], contents_U):\n",
    "    p = 1-j[0] if i[0]=='__label__0' else j[0]\n",
    "    if p<t:\n",
    "        lis.append([c, p])\n",
    "print(len(lis))       \n",
    "df_pos = pd.read_csv('./data/pos_data.csv')\n",
    "pos = [i.lower() for i in df_pos['content']]\n",
    "\n",
    "lis = sorted(lis, key=lambda x:x[1])\n",
    "neg = [_[0] for _ in lis[:len(pos)]]\n",
    "neg_df = pd.DataFrame({'content':neg})\n",
    "print(len(neg))\n",
    "neg_df.to_csv('./data/neg_data.csv', index=False)\n",
    "\n",
    "# Building a classification dataset.\n",
    "contents = pos + neg\n",
    "ids = list(range(len(contents)))\n",
    "tags = [1]*len(df_pos)+[0]*len(neg)\n",
    "df = pd.DataFrame({'id':ids, 'tag':tags, 'content':contents})\n",
    "n_valid = int(len(df)*0.1)\n",
    "n_test = int(len(df)*0.1)\n",
    "valid_df = df.sample(n_valid, random_state=42)\n",
    "print(len(valid_df[valid_df.tag==1]), len(valid_df[valid_df.tag==0]))\n",
    "df = df.drop(valid_df.index)\n",
    "test_df = df.sample(n_test, random_state=42)\n",
    "print(len(test_df[test_df.tag==1]), len(test_df[test_df.tag==0]))\n",
    "train_df = df.drop(test_df.index)\n",
    "print(len(train_df[train_df.tag==1]), len(train_df[train_df.tag==0]))\n",
    "df_ = pd.concat([train_df, valid_df, test_df])\n",
    "df_['type'] = ['train']*len(train_df)+['valid']*len(valid_df)+['test']*len(test_df)\n",
    "df_.to_csv('./data/clf-data.csv', index=False)"
   ]
  }
 ],
 "metadata": {
  "kernelspec": {
   "display_name": "a1",
   "language": "python",
   "name": "python3"
  },
  "language_info": {
   "codemirror_mode": {
    "name": "ipython",
    "version": 3
   },
   "file_extension": ".py",
   "mimetype": "text/x-python",
   "name": "python",
   "nbconvert_exporter": "python",
   "pygments_lexer": "ipython3",
   "version": "3.10.13"
  }
 },
 "nbformat": 4,
 "nbformat_minor": 2
}
